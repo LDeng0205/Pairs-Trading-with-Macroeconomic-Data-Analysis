{
 "cells": [
  {
   "cell_type": "code",
   "execution_count": 179,
   "metadata": {},
   "outputs": [],
   "source": [
    "import numpy as np\n",
    "import pandas as pd\n",
    "import matplotlib.pyplot as plt\n",
    "import yfinance as yf\n",
    "from random import sample\n",
    "import seaborn as sns\n",
    "\n",
    "from statsmodels import regression\n",
    "import statsmodels.api as sm\n",
    "import statsmodels.tsa.stattools as ts\n",
    "from statsmodels.tsa.stattools import coint\n",
    "\n",
    "plt.rcParams[\"figure.figsize\"] = (15,7)"
   ]
  },
  {
   "cell_type": "code",
   "execution_count": 180,
   "metadata": {},
   "outputs": [
    {
     "name": "stdout",
     "output_type": "stream",
     "text": [
      "[*********************100%***********************]  101 of 101 completed\n",
      "\n",
      "2 Failed downloads:\n",
      "- CHK: Data doesn't exist for startDate = 1462086000, endDate = 1609488000\n",
      "- DEN: Data doesn't exist for startDate = 1462086000, endDate = 1609488000\n"
     ]
    }
   ],
   "source": [
    "start = \"2016-05-01\"\n",
    "end = \"2021-01-01\"\n",
    "samples = [\"AM\",\"AR\",\"APA\",\"AROC\",\"BKR\",\"BSM\",\"BP\",\"BPMP\",\"COG\",\"WHD\",\"CPE\",\"CVE\",\"CDEV\",\"CHX\",\"LNG\",\"CQP\",\"CHK\",\"CVX\",\"XEC\",\"CLNE\",\"CNX\",\"CRK\",\"COP\",\"CLR\",\"CEQP\",\"CVI\",\"DCP\",\"DKL\",\"DK\",\"DEN\",\"DVN\",\"FANG\",\"DNOW\",\"ET\",\"DRQ\",\"ENBL\",\"ERF\",\"ENLC\",\"EPD\",\"EOG\",\"EQT\",\"ETRN\",\"XOM\",\"GEL\",\"HAL\",\"HP\",\"HES\",\"HEP\",\"HFC\",\"KMI\",\"KOS\",\"LBRT\",\"MMP\",\"MGY\",\"MRO\",\"MPC\",\"MTDR\",\"MPLX\",\"MUR\",\"NESR\",\"NFG\",\"NOV\",\"NBLX\",\"NS\",\"OAS\",\"OXY\",\"OII\",\"OKE\",\"PTEN\",\"PBF\",\"PDCE\",\"PSX\",\"PSXP\",\"PXD\",\"PAA\",\"PAGP\",\"RRC\",\"RTLR\",\"REGI\",\"RES\",\"SOL\",\"SLB\",\"SHLX\",\"OILY\",\"SM\",\"SWN\",\"SUN\",\"TRGP\",\"FTI\",\"TPL\",\"TGS\",\"WMB\",\"RIG\",\"USAC\",\"VLO\",\"VVV\",\"VET\",\"VNOM\",\"WES\",\"WLL\",\"INT\"]\n",
    "data = yf.download(tickers=samples, start=start, end=end, interval = \"1d\")\n",
    "prices = data['Adj Close'].dropna(axis=1)\n"
   ]
  },
  {
   "cell_type": "code",
   "execution_count": 181,
   "metadata": {},
   "outputs": [
    {
     "name": "stdout",
     "output_type": "stream",
     "text": [
      "[[44.75 45.82  1.32  1.58  1.  ]\n",
      " [43.65 43.09  1.25  1.54  1.  ]\n",
      " [43.77 43.08  1.23  1.52  1.  ]\n",
      " ...\n",
      " [47.85 50.44  0.37  1.9   1.  ]\n",
      " [48.24 50.74  0.37  1.92  1.  ]\n",
      " [48.35 51.22  0.36  1.95  1.  ]]\n",
      "(1705, 5)\n",
      "1177\n",
      "(1705, 88)\n"
     ]
    }
   ],
   "source": [
    "oilUS = pd.read_csv('https://raw.githubusercontent.com/LDeng0205/Pairs-Trading-with-Macroeconomic-Data-Analysis/master/oil-data/DCOILWTICO.csv')\n",
    "oilEU = pd.read_csv('https://raw.githubusercontent.com/LDeng0205/Pairs-Trading-with-Macroeconomic-Data-Analysis/master/oil-data/DCOILBRENTEU.csv')\n",
    "dgs5 = pd.read_csv('https://raw.githubusercontent.com/LDeng0205/Pairs-Trading-with-Macroeconomic-Data-Analysis/master/oil-data/DGS5.csv')\n",
    "T5YIE = pd.read_csv('https://raw.githubusercontent.com/LDeng0205/Pairs-Trading-with-Macroeconomic-Data-Analysis/master/oil-data/T5YIE.csv')\n",
    "unrate = pd.read_csv('https://raw.githubusercontent.com/LDeng0205/Pairs-Trading-with-Macroeconomic-Data-Analysis/master/oil-data/UNRATE.csv')\n",
    "# oilUS #daily from 2016 april 19\n",
    "# oilEU #daily from 2016 april 19\n",
    "# dgs5 #daily from 2016 april 25\n",
    "# T5YIE #daily from 2016 april 25\n",
    "# unrate #monthly from 2016 march 1\n",
    "\n",
    "def dateAdjust(raw, start_date, end_date):\n",
    "  mask = (raw['DATE'] >= start_date) & (raw['DATE'] < end_date)\n",
    "  return raw.loc[mask]\n",
    "\n",
    "def clean(a, ticker):\n",
    "  a[a == \".\"] = '0'\n",
    "  a[ticker] = a[ticker].astype(\"float64\")\n",
    "  a.DATE = pd.to_datetime(a.DATE)\n",
    "  clean = a.set_index([\"DATE\"])\n",
    "  clean_resampled = clean.resample(\"1d\").interpolate()\n",
    "  return clean_resampled[ticker]\n",
    "\n",
    "\n",
    "\n",
    "oilUS = dateAdjust(oilUS, start, end)\n",
    "oilEU = dateAdjust(oilEU, start, end)\n",
    "dgs5 = dateAdjust(dgs5, start, end)\n",
    "T5YIE = dateAdjust(T5YIE, start, end)\n",
    "unrate = dateAdjust(unrate, start, end)\n",
    "\n",
    "\n",
    "a1 = clean(oilUS,\"DCOILWTICO\").to_numpy()\n",
    "a2 = clean(oilEU,\"DCOILBRENTEU\").to_numpy()\n",
    "a3 = clean(dgs5,\"DGS5\").to_numpy()\n",
    "a4 = clean(T5YIE,\"T5YIE\").to_numpy()\n",
    "const = np.ones_like(a1, dtype = 'float64')\n",
    "\n",
    "A = np.vstack((a1, a2, a3, a4, const)).T\n",
    "\n",
    "#A, containing information about macroeconomic data, is the matrix for least squares\n",
    "#least squares equation A * Wn = Pn\n",
    "#where p is the stock price time series of the company\n",
    "\n",
    "print(A)\n",
    "print(A.shape)\n",
    "\n",
    "print(len(data))\n",
    "resampled_data = prices.resample(\"1d\").interpolate().to_numpy()\n",
    "print(resampled_data.shape)\n"
   ]
  },
  {
   "cell_type": "code",
   "execution_count": 182,
   "metadata": {},
   "outputs": [
    {
     "name": "stdout",
     "output_type": "stream",
     "text": [
      "(88, 5)\n",
      "(1705, 88)\n",
      "[('AM', 'CEQP'), ('AM', 'MRO'), ('AM', 'NOV'), ('AM', 'OXY'), ('AM', 'PSX'), ('AM', 'OILY'), ('AM', 'SUN'), ('AR', 'ENBL'), ('AR', 'NOV'), ('AR', 'OAS'), ('AR', 'SUN'), ('APA', 'AROC'), ('APA', 'CPE'), ('APA', 'CVE'), ('APA', 'DEN'), ('APA', 'KOS'), ('APA', 'MMP'), ('APA', 'PBF'), ('APA', 'PAGP'), ('APA', 'SWN'), ('AROC', 'CPE'), ('AROC', 'DEN'), ('AROC', 'PBF'), ('AROC', 'PAGP'), ('BKR', 'CDEV'), ('BKR', 'DRQ'), ('BKR', 'HP'), ('BKR', 'MTDR'), ('BKR', 'NBLX'), ('BKR', 'SLB'), ('BSM', 'CVI'), ('BSM', 'DKL'), ('BSM', 'FANG'), ('BSM', 'ET'), ('BSM', 'DRQ'), ('BSM', 'EOG'), ('BSM', 'HP'), ('BSM', 'KMI'), ('BSM', 'MUR'), ('BSM', 'NESR'), ('BSM', 'REGI'), ('COG', 'CRK'), ('WHD', 'DNOW'), ('WHD', 'HEP'), ('WHD', 'MPLX'), ('CPE', 'DEN'), ('CPE', 'PBF'), ('CPE', 'PAGP'), ('CPE', 'SWN'), ('CVE', 'CQP'), ('CVE', 'CHK'), ('CVE', 'COP'), ('CVE', 'CLR'), ('CVE', 'GEL'), ('CVE', 'HAL'), ('CVE', 'HES'), ('CVE', 'KOS'), ('CVE', 'MMP'), ('CVE', 'OXY'), ('CVE', 'PDCE'), ('CVE', 'PAGP'), ('CVE', 'SWN'), ('CDEV', 'DRQ'), ('CDEV', 'HP'), ('CDEV', 'MTDR'), ('CDEV', 'NBLX'), ('CDEV', 'NS'), ('CDEV', 'SLB'), ('CHX', 'DCP'), ('CHX', 'HFC'), ('CHX', 'LBRT'), ('CHX', 'PTEN'), ('CHX', 'RRC'), ('CHX', 'SOL'), ('LNG', 'EQT'), ('LNG', 'PAA'), ('LNG', 'RES'), ('CQP', 'CHK'), ('CQP', 'COP'), ('CQP', 'CLR'), ('CQP', 'ERF'), ('CQP', 'HAL'), ('CQP', 'HES'), ('CQP', 'KOS'), ('CQP', 'MMP'), ('CQP', 'OXY'), ('CQP', 'PDCE'), ('CQP', 'PAGP'), ('CHK', 'XEC'), ('CHK', 'COP'), ('CHK', 'CLR'), ('CHK', 'DK'), ('CHK', 'ERF'), ('CHK', 'ETRN'), ('CHK', 'GEL'), ('CHK', 'HAL'), ('CHK', 'HES'), ('CHK', 'KOS'), ('CHK', 'MMP'), ('CHK', 'OXY'), ('CHK', 'PDCE'), ('CHK', 'TRGP'), ('XEC', 'COP'), ('XEC', 'CLR'), ('XEC', 'DK'), ('XEC', 'ERF'), ('XEC', 'ETRN'), ('XEC', 'GEL'), ('XEC', 'HAL'), ('XEC', 'PDCE'), ('XEC', 'TRGP'), ('CLNE', 'CEQP'), ('CLNE', 'CVI'), ('CLNE', 'DKL'), ('CLNE', 'ET'), ('CLNE', 'EOG'), ('CLNE', 'LBRT'), ('CLNE', 'MRO'), ('CLNE', 'MUR'), ('CLNE', 'PSXP'), ('CLNE', 'REGI'), ('CLNE', 'SOL'), ('CLNE', 'OILY'), ('CNX', 'EPD'), ('COP', 'CLR'), ('COP', 'FANG'), ('COP', 'ERF'), ('COP', 'HAL'), ('COP', 'HES'), ('COP', 'OXY'), ('COP', 'PDCE'), ('COP', 'TRGP'), ('CLR', 'DK'), ('CLR', 'ERF'), ('CLR', 'ETRN'), ('CLR', 'GEL'), ('CLR', 'HAL'), ('CLR', 'HES'), ('CLR', 'KOS'), ('CLR', 'MMP'), ('CLR', 'OXY'), ('CLR', 'PDCE'), ('CEQP', 'CVI'), ('CEQP', 'DKL'), ('CEQP', 'FANG'), ('CEQP', 'ET'), ('CEQP', 'EOG'), ('CEQP', 'LBRT'), ('CEQP', 'MRO'), ('CEQP', 'MUR'), ('CEQP', 'NESR'), ('CEQP', 'PSX'), ('CEQP', 'REGI'), ('CEQP', 'OILY'), ('CVI', 'DKL'), ('CVI', 'FANG'), ('CVI', 'DNOW'), ('CVI', 'ET'), ('CVI', 'DRQ'), ('CVI', 'EOG'), ('CVI', 'HP'), ('CVI', 'KMI'), ('CVI', 'LBRT'), ('CVI', 'MUR'), ('CVI', 'NESR'), ('CVI', 'PSXP'), ('CVI', 'REGI'), ('DCP', 'HFC'), ('DCP', 'OAS'), ('DCP', 'OKE'), ('DKL', 'FANG'), ('DKL', 'ET'), ('DKL', 'DRQ'), ('DKL', 'EOG'), ('DKL', 'HP'), ('DKL', 'KMI'), ('DKL', 'LBRT'), ('DKL', 'MRO'), ('DKL', 'MUR'), ('DKL', 'NESR'), ('DKL', 'PSXP'), ('DKL', 'REGI'), ('DK', 'ENLC'), ('DK', 'ETRN'), ('DK', 'GEL'), ('DK', 'HAL'), ('DK', 'PDCE'), ('DEN', 'PBF'), ('FANG', 'DRQ'), ('FANG', 'ERF'), ('FANG', 'EOG'), ('FANG', 'HP'), ('FANG', 'KMI'), ('FANG', 'MRO'), ('FANG', 'MUR'), ('FANG', 'NESR'), ('FANG', 'REGI'), ('FANG', 'TRGP'), ('DNOW', 'HP'), ('DNOW', 'HEP'), ('DNOW', 'MPLX'), ('DNOW', 'PSXP'), ('ET', 'EOG'), ('ET', 'HP'), ('ET', 'KMI'), ('ET', 'LBRT'), ('ET', 'MRO'), ('ET', 'MUR'), ('ET', 'NESR'), ('ET', 'PSXP'), ('ET', 'REGI'), ('DRQ', 'ERF'), ('DRQ', 'EOG'), ('DRQ', 'HP'), ('DRQ', 'KMI'), ('DRQ', 'MUR'), ('DRQ', 'NESR'), ('DRQ', 'REGI'), ('DRQ', 'TRGP'), ('ENBL', 'NOV'), ('ENBL', 'OAS'), ('ENBL', 'SUN'), ('ERF', 'HAL'), ('ERF', 'HES'), ('ERF', 'MUR'), ('ERF', 'NESR'), ('ERF', 'OXY'), ('ERF', 'PDCE'), ('ERF', 'TRGP'), ('ENLC', 'ETRN'), ('ENLC', 'GEL'), ('EOG', 'HP'), ('EOG', 'KMI'), ('EOG', 'LBRT'), ('EOG', 'MRO'), ('EOG', 'MUR'), ('EOG', 'NESR'), ('EOG', 'PSXP'), ('EOG', 'REGI'), ('EQT', 'ETRN'), ('EQT', 'PAA'), ('EQT', 'RES'), ('ETRN', 'GEL'), ('ETRN', 'HAL'), ('ETRN', 'KOS'), ('ETRN', 'RES'), ('XOM', 'HEP'), ('GEL', 'HAL'), ('GEL', 'KOS'), ('GEL', 'PDCE'), ('HAL', 'HES'), ('HAL', 'KOS'), ('HAL', 'MMP'), ('HAL', 'OXY'), ('HAL', 'PDCE'), ('HP', 'KMI'), ('HP', 'MUR'), ('HP', 'NESR'), ('HES', 'KOS'), ('HES', 'MMP'), ('HES', 'OXY'), ('HES', 'PDCE'), ('HES', 'PAGP'), ('HEP', 'MPLX'), ('HFC', 'LBRT'), ('HFC', 'PTEN'), ('HFC', 'PSXP'), ('HFC', 'RRC'), ('HFC', 'SOL'), ('KMI', 'MUR'), ('KMI', 'NESR'), ('KMI', 'REGI'), ('KOS', 'MMP'), ('KOS', 'OXY'), ('KOS', 'PDCE'), ('KOS', 'PAGP'), ('KOS', 'SWN'), ('LBRT', 'MRO'), ('LBRT', 'PSXP'), ('LBRT', 'REGI'), ('LBRT', 'SOL'), ('MMP', 'OXY'), ('MMP', 'PDCE'), ('MMP', 'PAGP'), ('MMP', 'SWN'), ('MRO', 'MUR'), ('MRO', 'NESR'), ('MRO', 'PSX'), ('MRO', 'REGI'), ('MRO', 'OILY'), ('MTDR', 'NBLX'), ('MTDR', 'SLB'), ('MPLX', 'PSXP'), ('MUR', 'NESR'), ('MUR', 'REGI'), ('MUR', 'TRGP'), ('NESR', 'REGI'), ('NESR', 'TRGP'), ('NOV', 'OAS'), ('NOV', 'PSX'), ('NOV', 'OILY'), ('NOV', 'SUN'), ('NBLX', 'NS'), ('NBLX', 'SLB'), ('OAS', 'OKE'), ('OAS', 'OILY'), ('OAS', 'SUN'), ('OXY', 'PDCE'), ('OXY', 'PAGP'), ('PTEN', 'RRC'), ('PTEN', 'SOL'), ('PBF', 'PAGP'), ('PDCE', 'TRGP'), ('PSX', 'OILY'), ('PSX', 'SUN'), ('PSXP', 'RRC'), ('PSXP', 'SOL'), ('PAA', 'RES'), ('PAGP', 'SWN'), ('RRC', 'SOL'), ('OILY', 'SUN'), ('TRGP', 'TRGP')]\n",
      "322\n"
     ]
    }
   ],
   "source": [
    "# finds weights that give least-square error\n",
    "# matrix equation: A*weights ~ data\n",
    "weights = np.matmul(np.linalg.pinv(A),resampled_data).T\n",
    "print(weights.shape)\n",
    "print(resampled_data.shape)\n",
    "\n",
    "# normalize the weights\n",
    "n = len(weights)\n",
    "for i in range(n):\n",
    "  weights[i] = weights[i]/np.linalg.norm(weights[i])\n",
    "\n",
    "# x is the min value of inner product required to identify as pair\n",
    "x = .99\n",
    "results = []\n",
    "macro_pairs = []\n",
    "for i in range(n):\n",
    "  for j in range(min(i + 1, n - 1), n):\n",
    "    if (np.dot(weights[i], weights[j])>x):\n",
    "      results.append((samples[i], samples[j]))\n",
    "      # results.append((i, j))\n",
    "      macro_pairs.append([i,j])\n",
    "print(results)\n",
    "print(len(results))\n",
    "# print(weights)"
   ]
  },
  {
   "cell_type": "code",
   "execution_count": 183,
   "metadata": {},
   "outputs": [],
   "source": [
    "def find_cointegrated_pairs(data):\n",
    "    n = data.shape[1]\n",
    "    score_matrix = np.zeros((n, n))\n",
    "    pvalue_matrix = np.ones((n, n))\n",
    "    keys = data.keys()\n",
    "    pairs = []\n",
    "    for i in range(n):\n",
    "        for j in range(i+1, n):\n",
    "            S1 = data[keys[i]]\n",
    "            S2 = data[keys[j]]\n",
    "            result = coint(S1, S2)\n",
    "            score = result[0]\n",
    "            pvalue = result[1]\n",
    "            score_matrix[i, j] = score\n",
    "            pvalue_matrix[i, j] = pvalue\n",
    "            if pvalue < 0.05:\n",
    "                pairs.append((keys[i], keys[j],pvalue))\n",
    "    return score_matrix, pvalue_matrix, pairs"
   ]
  },
  {
   "cell_type": "code",
   "execution_count": 184,
   "metadata": {},
   "outputs": [
    {
     "ename": "KeyboardInterrupt",
     "evalue": "",
     "output_type": "error",
     "traceback": [
      "\u001b[1;31m---------------------------------------------------------------------------\u001b[0m",
      "\u001b[1;31mKeyboardInterrupt\u001b[0m                         Traceback (most recent call last)",
      "\u001b[1;32m<ipython-input-184-bfe2d8a04b73>\u001b[0m in \u001b[0;36m<module>\u001b[1;34m\u001b[0m\n\u001b[1;32m----> 1\u001b[1;33m \u001b[0mscores\u001b[0m\u001b[1;33m,\u001b[0m \u001b[0mpvalues\u001b[0m\u001b[1;33m,\u001b[0m \u001b[0mpairs\u001b[0m\u001b[1;33m,\u001b[0m \u001b[1;33m=\u001b[0m \u001b[0mfind_cointegrated_pairs\u001b[0m\u001b[1;33m(\u001b[0m\u001b[0mprices\u001b[0m\u001b[1;33m)\u001b[0m\u001b[1;33m\u001b[0m\u001b[1;33m\u001b[0m\u001b[0m\n\u001b[0m\u001b[0;32m      2\u001b[0m \u001b[0mbest_pairs\u001b[0m \u001b[1;33m=\u001b[0m \u001b[1;33m[\u001b[0m\u001b[0mpair\u001b[0m \u001b[1;32mfor\u001b[0m \u001b[0mpair\u001b[0m \u001b[1;32min\u001b[0m \u001b[0mpairs\u001b[0m \u001b[1;32mif\u001b[0m \u001b[0mpair\u001b[0m\u001b[1;33m[\u001b[0m\u001b[1;36m2\u001b[0m\u001b[1;33m]\u001b[0m\u001b[1;33m<\u001b[0m\u001b[1;36m.001\u001b[0m\u001b[1;33m]\u001b[0m\u001b[1;33m\u001b[0m\u001b[1;33m\u001b[0m\u001b[0m\n",
      "\u001b[1;32m<ipython-input-183-5af69ad44914>\u001b[0m in \u001b[0;36mfind_cointegrated_pairs\u001b[1;34m(data)\u001b[0m\n\u001b[0;32m      9\u001b[0m             \u001b[0mS1\u001b[0m \u001b[1;33m=\u001b[0m \u001b[0mdata\u001b[0m\u001b[1;33m[\u001b[0m\u001b[0mkeys\u001b[0m\u001b[1;33m[\u001b[0m\u001b[0mi\u001b[0m\u001b[1;33m]\u001b[0m\u001b[1;33m]\u001b[0m\u001b[1;33m\u001b[0m\u001b[1;33m\u001b[0m\u001b[0m\n\u001b[0;32m     10\u001b[0m             \u001b[0mS2\u001b[0m \u001b[1;33m=\u001b[0m \u001b[0mdata\u001b[0m\u001b[1;33m[\u001b[0m\u001b[0mkeys\u001b[0m\u001b[1;33m[\u001b[0m\u001b[0mj\u001b[0m\u001b[1;33m]\u001b[0m\u001b[1;33m]\u001b[0m\u001b[1;33m\u001b[0m\u001b[1;33m\u001b[0m\u001b[0m\n\u001b[1;32m---> 11\u001b[1;33m             \u001b[0mresult\u001b[0m \u001b[1;33m=\u001b[0m \u001b[0mcoint\u001b[0m\u001b[1;33m(\u001b[0m\u001b[0mS1\u001b[0m\u001b[1;33m,\u001b[0m \u001b[0mS2\u001b[0m\u001b[1;33m)\u001b[0m\u001b[1;33m\u001b[0m\u001b[1;33m\u001b[0m\u001b[0m\n\u001b[0m\u001b[0;32m     12\u001b[0m             \u001b[0mscore\u001b[0m \u001b[1;33m=\u001b[0m \u001b[0mresult\u001b[0m\u001b[1;33m[\u001b[0m\u001b[1;36m0\u001b[0m\u001b[1;33m]\u001b[0m\u001b[1;33m\u001b[0m\u001b[1;33m\u001b[0m\u001b[0m\n\u001b[0;32m     13\u001b[0m             \u001b[0mpvalue\u001b[0m \u001b[1;33m=\u001b[0m \u001b[0mresult\u001b[0m\u001b[1;33m[\u001b[0m\u001b[1;36m1\u001b[0m\u001b[1;33m]\u001b[0m\u001b[1;33m\u001b[0m\u001b[1;33m\u001b[0m\u001b[0m\n",
      "\u001b[1;32mC:\\ProgramData\\Anaconda3\\lib\\site-packages\\statsmodels\\tsa\\stattools.py\u001b[0m in \u001b[0;36mcoint\u001b[1;34m(y0, y1, trend, method, maxlag, autolag, return_results)\u001b[0m\n\u001b[0;32m   1567\u001b[0m \u001b[1;33m\u001b[0m\u001b[0m\n\u001b[0;32m   1568\u001b[0m     \u001b[1;32mif\u001b[0m \u001b[0mres_co\u001b[0m\u001b[1;33m.\u001b[0m\u001b[0mrsquared\u001b[0m \u001b[1;33m<\u001b[0m \u001b[1;36m1\u001b[0m \u001b[1;33m-\u001b[0m \u001b[1;36m100\u001b[0m \u001b[1;33m*\u001b[0m \u001b[0mSQRTEPS\u001b[0m\u001b[1;33m:\u001b[0m\u001b[1;33m\u001b[0m\u001b[1;33m\u001b[0m\u001b[0m\n\u001b[1;32m-> 1569\u001b[1;33m         res_adf = adfuller(\n\u001b[0m\u001b[0;32m   1570\u001b[0m             \u001b[0mres_co\u001b[0m\u001b[1;33m.\u001b[0m\u001b[0mresid\u001b[0m\u001b[1;33m,\u001b[0m \u001b[0mmaxlag\u001b[0m\u001b[1;33m=\u001b[0m\u001b[0mmaxlag\u001b[0m\u001b[1;33m,\u001b[0m \u001b[0mautolag\u001b[0m\u001b[1;33m=\u001b[0m\u001b[0mautolag\u001b[0m\u001b[1;33m,\u001b[0m \u001b[0mregression\u001b[0m\u001b[1;33m=\u001b[0m\u001b[1;34m\"nc\"\u001b[0m\u001b[1;33m\u001b[0m\u001b[1;33m\u001b[0m\u001b[0m\n\u001b[0;32m   1571\u001b[0m         )\n",
      "\u001b[1;32mC:\\ProgramData\\Anaconda3\\lib\\site-packages\\statsmodels\\tsa\\stattools.py\u001b[0m in \u001b[0;36madfuller\u001b[1;34m(x, maxlag, regression, autolag, store, regresults)\u001b[0m\n\u001b[0;32m    307\u001b[0m \u001b[1;33m\u001b[0m\u001b[0m\n\u001b[0;32m    308\u001b[0m         \u001b[1;32mif\u001b[0m \u001b[1;32mnot\u001b[0m \u001b[0mregresults\u001b[0m\u001b[1;33m:\u001b[0m\u001b[1;33m\u001b[0m\u001b[1;33m\u001b[0m\u001b[0m\n\u001b[1;32m--> 309\u001b[1;33m             icbest, bestlag = _autolag(\n\u001b[0m\u001b[0;32m    310\u001b[0m                 \u001b[0mOLS\u001b[0m\u001b[1;33m,\u001b[0m \u001b[0mxdshort\u001b[0m\u001b[1;33m,\u001b[0m \u001b[0mfullRHS\u001b[0m\u001b[1;33m,\u001b[0m \u001b[0mstartlag\u001b[0m\u001b[1;33m,\u001b[0m \u001b[0mmaxlag\u001b[0m\u001b[1;33m,\u001b[0m \u001b[0mautolag\u001b[0m\u001b[1;33m\u001b[0m\u001b[1;33m\u001b[0m\u001b[0m\n\u001b[0;32m    311\u001b[0m             )\n",
      "\u001b[1;32mC:\\ProgramData\\Anaconda3\\lib\\site-packages\\statsmodels\\tsa\\stattools.py\u001b[0m in \u001b[0;36m_autolag\u001b[1;34m(mod, endog, exog, startlag, maxlag, method, modargs, fitargs, regresults)\u001b[0m\n\u001b[0;32m    121\u001b[0m     \u001b[0mmethod\u001b[0m \u001b[1;33m=\u001b[0m \u001b[0mmethod\u001b[0m\u001b[1;33m.\u001b[0m\u001b[0mlower\u001b[0m\u001b[1;33m(\u001b[0m\u001b[1;33m)\u001b[0m\u001b[1;33m\u001b[0m\u001b[1;33m\u001b[0m\u001b[0m\n\u001b[0;32m    122\u001b[0m     \u001b[1;32mfor\u001b[0m \u001b[0mlag\u001b[0m \u001b[1;32min\u001b[0m \u001b[0mrange\u001b[0m\u001b[1;33m(\u001b[0m\u001b[0mstartlag\u001b[0m\u001b[1;33m,\u001b[0m \u001b[0mstartlag\u001b[0m \u001b[1;33m+\u001b[0m \u001b[0mmaxlag\u001b[0m \u001b[1;33m+\u001b[0m \u001b[1;36m1\u001b[0m\u001b[1;33m)\u001b[0m\u001b[1;33m:\u001b[0m\u001b[1;33m\u001b[0m\u001b[1;33m\u001b[0m\u001b[0m\n\u001b[1;32m--> 123\u001b[1;33m         \u001b[0mmod_instance\u001b[0m \u001b[1;33m=\u001b[0m \u001b[0mmod\u001b[0m\u001b[1;33m(\u001b[0m\u001b[0mendog\u001b[0m\u001b[1;33m,\u001b[0m \u001b[0mexog\u001b[0m\u001b[1;33m[\u001b[0m\u001b[1;33m:\u001b[0m\u001b[1;33m,\u001b[0m \u001b[1;33m:\u001b[0m\u001b[0mlag\u001b[0m\u001b[1;33m]\u001b[0m\u001b[1;33m,\u001b[0m \u001b[1;33m*\u001b[0m\u001b[0mmodargs\u001b[0m\u001b[1;33m)\u001b[0m\u001b[1;33m\u001b[0m\u001b[1;33m\u001b[0m\u001b[0m\n\u001b[0m\u001b[0;32m    124\u001b[0m         \u001b[0mresults\u001b[0m\u001b[1;33m[\u001b[0m\u001b[0mlag\u001b[0m\u001b[1;33m]\u001b[0m \u001b[1;33m=\u001b[0m \u001b[0mmod_instance\u001b[0m\u001b[1;33m.\u001b[0m\u001b[0mfit\u001b[0m\u001b[1;33m(\u001b[0m\u001b[1;33m)\u001b[0m\u001b[1;33m\u001b[0m\u001b[1;33m\u001b[0m\u001b[0m\n\u001b[0;32m    125\u001b[0m \u001b[1;33m\u001b[0m\u001b[0m\n",
      "\u001b[1;32mC:\\ProgramData\\Anaconda3\\lib\\site-packages\\statsmodels\\regression\\linear_model.py\u001b[0m in \u001b[0;36m__init__\u001b[1;34m(self, endog, exog, missing, hasconst, **kwargs)\u001b[0m\n\u001b[0;32m    870\u001b[0m     def __init__(self, endog, exog=None, missing='none', hasconst=None,\n\u001b[0;32m    871\u001b[0m                  **kwargs):\n\u001b[1;32m--> 872\u001b[1;33m         super(OLS, self).__init__(endog, exog, missing=missing,\n\u001b[0m\u001b[0;32m    873\u001b[0m                                   hasconst=hasconst, **kwargs)\n\u001b[0;32m    874\u001b[0m         \u001b[1;32mif\u001b[0m \u001b[1;34m\"weights\"\u001b[0m \u001b[1;32min\u001b[0m \u001b[0mself\u001b[0m\u001b[1;33m.\u001b[0m\u001b[0m_init_keys\u001b[0m\u001b[1;33m:\u001b[0m\u001b[1;33m\u001b[0m\u001b[1;33m\u001b[0m\u001b[0m\n",
      "\u001b[1;32mC:\\ProgramData\\Anaconda3\\lib\\site-packages\\statsmodels\\regression\\linear_model.py\u001b[0m in \u001b[0;36m__init__\u001b[1;34m(self, endog, exog, weights, missing, hasconst, **kwargs)\u001b[0m\n\u001b[0;32m    701\u001b[0m         \u001b[1;32melse\u001b[0m\u001b[1;33m:\u001b[0m\u001b[1;33m\u001b[0m\u001b[1;33m\u001b[0m\u001b[0m\n\u001b[0;32m    702\u001b[0m             \u001b[0mweights\u001b[0m \u001b[1;33m=\u001b[0m \u001b[0mweights\u001b[0m\u001b[1;33m.\u001b[0m\u001b[0msqueeze\u001b[0m\u001b[1;33m(\u001b[0m\u001b[1;33m)\u001b[0m\u001b[1;33m\u001b[0m\u001b[1;33m\u001b[0m\u001b[0m\n\u001b[1;32m--> 703\u001b[1;33m         super(WLS, self).__init__(endog, exog, missing=missing,\n\u001b[0m\u001b[0;32m    704\u001b[0m                                   weights=weights, hasconst=hasconst, **kwargs)\n\u001b[0;32m    705\u001b[0m         \u001b[0mnobs\u001b[0m \u001b[1;33m=\u001b[0m \u001b[0mself\u001b[0m\u001b[1;33m.\u001b[0m\u001b[0mexog\u001b[0m\u001b[1;33m.\u001b[0m\u001b[0mshape\u001b[0m\u001b[1;33m[\u001b[0m\u001b[1;36m0\u001b[0m\u001b[1;33m]\u001b[0m\u001b[1;33m\u001b[0m\u001b[1;33m\u001b[0m\u001b[0m\n",
      "\u001b[1;32mC:\\ProgramData\\Anaconda3\\lib\\site-packages\\statsmodels\\regression\\linear_model.py\u001b[0m in \u001b[0;36m__init__\u001b[1;34m(self, endog, exog, **kwargs)\u001b[0m\n\u001b[0;32m    188\u001b[0m     \"\"\"\n\u001b[0;32m    189\u001b[0m     \u001b[1;32mdef\u001b[0m \u001b[0m__init__\u001b[0m\u001b[1;33m(\u001b[0m\u001b[0mself\u001b[0m\u001b[1;33m,\u001b[0m \u001b[0mendog\u001b[0m\u001b[1;33m,\u001b[0m \u001b[0mexog\u001b[0m\u001b[1;33m,\u001b[0m \u001b[1;33m**\u001b[0m\u001b[0mkwargs\u001b[0m\u001b[1;33m)\u001b[0m\u001b[1;33m:\u001b[0m\u001b[1;33m\u001b[0m\u001b[1;33m\u001b[0m\u001b[0m\n\u001b[1;32m--> 190\u001b[1;33m         \u001b[0msuper\u001b[0m\u001b[1;33m(\u001b[0m\u001b[0mRegressionModel\u001b[0m\u001b[1;33m,\u001b[0m \u001b[0mself\u001b[0m\u001b[1;33m)\u001b[0m\u001b[1;33m.\u001b[0m\u001b[0m__init__\u001b[0m\u001b[1;33m(\u001b[0m\u001b[0mendog\u001b[0m\u001b[1;33m,\u001b[0m \u001b[0mexog\u001b[0m\u001b[1;33m,\u001b[0m \u001b[1;33m**\u001b[0m\u001b[0mkwargs\u001b[0m\u001b[1;33m)\u001b[0m\u001b[1;33m\u001b[0m\u001b[1;33m\u001b[0m\u001b[0m\n\u001b[0m\u001b[0;32m    191\u001b[0m         \u001b[0mself\u001b[0m\u001b[1;33m.\u001b[0m\u001b[0m_data_attr\u001b[0m\u001b[1;33m.\u001b[0m\u001b[0mextend\u001b[0m\u001b[1;33m(\u001b[0m\u001b[1;33m[\u001b[0m\u001b[1;34m'pinv_wexog'\u001b[0m\u001b[1;33m,\u001b[0m \u001b[1;34m'weights'\u001b[0m\u001b[1;33m]\u001b[0m\u001b[1;33m)\u001b[0m\u001b[1;33m\u001b[0m\u001b[1;33m\u001b[0m\u001b[0m\n\u001b[0;32m    192\u001b[0m \u001b[1;33m\u001b[0m\u001b[0m\n",
      "\u001b[1;32mC:\\ProgramData\\Anaconda3\\lib\\site-packages\\statsmodels\\base\\model.py\u001b[0m in \u001b[0;36m__init__\u001b[1;34m(self, endog, exog, **kwargs)\u001b[0m\n\u001b[0;32m    235\u001b[0m \u001b[1;33m\u001b[0m\u001b[0m\n\u001b[0;32m    236\u001b[0m     \u001b[1;32mdef\u001b[0m \u001b[0m__init__\u001b[0m\u001b[1;33m(\u001b[0m\u001b[0mself\u001b[0m\u001b[1;33m,\u001b[0m \u001b[0mendog\u001b[0m\u001b[1;33m,\u001b[0m \u001b[0mexog\u001b[0m\u001b[1;33m=\u001b[0m\u001b[1;32mNone\u001b[0m\u001b[1;33m,\u001b[0m \u001b[1;33m**\u001b[0m\u001b[0mkwargs\u001b[0m\u001b[1;33m)\u001b[0m\u001b[1;33m:\u001b[0m\u001b[1;33m\u001b[0m\u001b[1;33m\u001b[0m\u001b[0m\n\u001b[1;32m--> 237\u001b[1;33m         \u001b[0msuper\u001b[0m\u001b[1;33m(\u001b[0m\u001b[0mLikelihoodModel\u001b[0m\u001b[1;33m,\u001b[0m \u001b[0mself\u001b[0m\u001b[1;33m)\u001b[0m\u001b[1;33m.\u001b[0m\u001b[0m__init__\u001b[0m\u001b[1;33m(\u001b[0m\u001b[0mendog\u001b[0m\u001b[1;33m,\u001b[0m \u001b[0mexog\u001b[0m\u001b[1;33m,\u001b[0m \u001b[1;33m**\u001b[0m\u001b[0mkwargs\u001b[0m\u001b[1;33m)\u001b[0m\u001b[1;33m\u001b[0m\u001b[1;33m\u001b[0m\u001b[0m\n\u001b[0m\u001b[0;32m    238\u001b[0m         \u001b[0mself\u001b[0m\u001b[1;33m.\u001b[0m\u001b[0minitialize\u001b[0m\u001b[1;33m(\u001b[0m\u001b[1;33m)\u001b[0m\u001b[1;33m\u001b[0m\u001b[1;33m\u001b[0m\u001b[0m\n\u001b[0;32m    239\u001b[0m \u001b[1;33m\u001b[0m\u001b[0m\n",
      "\u001b[1;32mC:\\ProgramData\\Anaconda3\\lib\\site-packages\\statsmodels\\base\\model.py\u001b[0m in \u001b[0;36m__init__\u001b[1;34m(self, endog, exog, **kwargs)\u001b[0m\n\u001b[0;32m     75\u001b[0m         \u001b[0mmissing\u001b[0m \u001b[1;33m=\u001b[0m \u001b[0mkwargs\u001b[0m\u001b[1;33m.\u001b[0m\u001b[0mpop\u001b[0m\u001b[1;33m(\u001b[0m\u001b[1;34m'missing'\u001b[0m\u001b[1;33m,\u001b[0m \u001b[1;34m'none'\u001b[0m\u001b[1;33m)\u001b[0m\u001b[1;33m\u001b[0m\u001b[1;33m\u001b[0m\u001b[0m\n\u001b[0;32m     76\u001b[0m         \u001b[0mhasconst\u001b[0m \u001b[1;33m=\u001b[0m \u001b[0mkwargs\u001b[0m\u001b[1;33m.\u001b[0m\u001b[0mpop\u001b[0m\u001b[1;33m(\u001b[0m\u001b[1;34m'hasconst'\u001b[0m\u001b[1;33m,\u001b[0m \u001b[1;32mNone\u001b[0m\u001b[1;33m)\u001b[0m\u001b[1;33m\u001b[0m\u001b[1;33m\u001b[0m\u001b[0m\n\u001b[1;32m---> 77\u001b[1;33m         self.data = self._handle_data(endog, exog, missing, hasconst,\n\u001b[0m\u001b[0;32m     78\u001b[0m                                       **kwargs)\n\u001b[0;32m     79\u001b[0m         \u001b[0mself\u001b[0m\u001b[1;33m.\u001b[0m\u001b[0mk_constant\u001b[0m \u001b[1;33m=\u001b[0m \u001b[0mself\u001b[0m\u001b[1;33m.\u001b[0m\u001b[0mdata\u001b[0m\u001b[1;33m.\u001b[0m\u001b[0mk_constant\u001b[0m\u001b[1;33m\u001b[0m\u001b[1;33m\u001b[0m\u001b[0m\n",
      "\u001b[1;32mC:\\ProgramData\\Anaconda3\\lib\\site-packages\\statsmodels\\base\\model.py\u001b[0m in \u001b[0;36m_handle_data\u001b[1;34m(self, endog, exog, missing, hasconst, **kwargs)\u001b[0m\n\u001b[0;32m     99\u001b[0m \u001b[1;33m\u001b[0m\u001b[0m\n\u001b[0;32m    100\u001b[0m     \u001b[1;32mdef\u001b[0m \u001b[0m_handle_data\u001b[0m\u001b[1;33m(\u001b[0m\u001b[0mself\u001b[0m\u001b[1;33m,\u001b[0m \u001b[0mendog\u001b[0m\u001b[1;33m,\u001b[0m \u001b[0mexog\u001b[0m\u001b[1;33m,\u001b[0m \u001b[0mmissing\u001b[0m\u001b[1;33m,\u001b[0m \u001b[0mhasconst\u001b[0m\u001b[1;33m,\u001b[0m \u001b[1;33m**\u001b[0m\u001b[0mkwargs\u001b[0m\u001b[1;33m)\u001b[0m\u001b[1;33m:\u001b[0m\u001b[1;33m\u001b[0m\u001b[1;33m\u001b[0m\u001b[0m\n\u001b[1;32m--> 101\u001b[1;33m         \u001b[0mdata\u001b[0m \u001b[1;33m=\u001b[0m \u001b[0mhandle_data\u001b[0m\u001b[1;33m(\u001b[0m\u001b[0mendog\u001b[0m\u001b[1;33m,\u001b[0m \u001b[0mexog\u001b[0m\u001b[1;33m,\u001b[0m \u001b[0mmissing\u001b[0m\u001b[1;33m,\u001b[0m \u001b[0mhasconst\u001b[0m\u001b[1;33m,\u001b[0m \u001b[1;33m**\u001b[0m\u001b[0mkwargs\u001b[0m\u001b[1;33m)\u001b[0m\u001b[1;33m\u001b[0m\u001b[1;33m\u001b[0m\u001b[0m\n\u001b[0m\u001b[0;32m    102\u001b[0m         \u001b[1;31m# kwargs arrays could have changed, easier to just attach here\u001b[0m\u001b[1;33m\u001b[0m\u001b[1;33m\u001b[0m\u001b[1;33m\u001b[0m\u001b[0m\n\u001b[0;32m    103\u001b[0m         \u001b[1;32mfor\u001b[0m \u001b[0mkey\u001b[0m \u001b[1;32min\u001b[0m \u001b[0mkwargs\u001b[0m\u001b[1;33m:\u001b[0m\u001b[1;33m\u001b[0m\u001b[1;33m\u001b[0m\u001b[0m\n",
      "\u001b[1;32mC:\\ProgramData\\Anaconda3\\lib\\site-packages\\statsmodels\\base\\data.py\u001b[0m in \u001b[0;36mhandle_data\u001b[1;34m(endog, exog, missing, hasconst, **kwargs)\u001b[0m\n\u001b[0;32m    670\u001b[0m \u001b[1;33m\u001b[0m\u001b[0m\n\u001b[0;32m    671\u001b[0m     \u001b[0mklass\u001b[0m \u001b[1;33m=\u001b[0m \u001b[0mhandle_data_class_factory\u001b[0m\u001b[1;33m(\u001b[0m\u001b[0mendog\u001b[0m\u001b[1;33m,\u001b[0m \u001b[0mexog\u001b[0m\u001b[1;33m)\u001b[0m\u001b[1;33m\u001b[0m\u001b[1;33m\u001b[0m\u001b[0m\n\u001b[1;32m--> 672\u001b[1;33m     return klass(endog, exog=exog, missing=missing, hasconst=hasconst,\n\u001b[0m\u001b[0;32m    673\u001b[0m                  **kwargs)\n",
      "\u001b[1;32mC:\\ProgramData\\Anaconda3\\lib\\site-packages\\statsmodels\\base\\data.py\u001b[0m in \u001b[0;36m__init__\u001b[1;34m(self, endog, exog, missing, hasconst, **kwargs)\u001b[0m\n\u001b[0;32m     85\u001b[0m         \u001b[0mself\u001b[0m\u001b[1;33m.\u001b[0m\u001b[0mconst_idx\u001b[0m \u001b[1;33m=\u001b[0m \u001b[1;32mNone\u001b[0m\u001b[1;33m\u001b[0m\u001b[1;33m\u001b[0m\u001b[0m\n\u001b[0;32m     86\u001b[0m         \u001b[0mself\u001b[0m\u001b[1;33m.\u001b[0m\u001b[0mk_constant\u001b[0m \u001b[1;33m=\u001b[0m \u001b[1;36m0\u001b[0m\u001b[1;33m\u001b[0m\u001b[1;33m\u001b[0m\u001b[0m\n\u001b[1;32m---> 87\u001b[1;33m         \u001b[0mself\u001b[0m\u001b[1;33m.\u001b[0m\u001b[0m_handle_constant\u001b[0m\u001b[1;33m(\u001b[0m\u001b[0mhasconst\u001b[0m\u001b[1;33m)\u001b[0m\u001b[1;33m\u001b[0m\u001b[1;33m\u001b[0m\u001b[0m\n\u001b[0m\u001b[0;32m     88\u001b[0m         \u001b[0mself\u001b[0m\u001b[1;33m.\u001b[0m\u001b[0m_check_integrity\u001b[0m\u001b[1;33m(\u001b[0m\u001b[1;33m)\u001b[0m\u001b[1;33m\u001b[0m\u001b[1;33m\u001b[0m\u001b[0m\n\u001b[0;32m     89\u001b[0m         \u001b[0mself\u001b[0m\u001b[1;33m.\u001b[0m\u001b[0m_cache\u001b[0m \u001b[1;33m=\u001b[0m \u001b[1;33m{\u001b[0m\u001b[1;33m}\u001b[0m\u001b[1;33m\u001b[0m\u001b[1;33m\u001b[0m\u001b[0m\n",
      "\u001b[1;32mC:\\ProgramData\\Anaconda3\\lib\\site-packages\\statsmodels\\base\\data.py\u001b[0m in \u001b[0;36m_handle_constant\u001b[1;34m(self, hasconst)\u001b[0m\n\u001b[0;32m    132\u001b[0m             \u001b[1;32mif\u001b[0m \u001b[1;32mnot\u001b[0m \u001b[0mnp\u001b[0m\u001b[1;33m.\u001b[0m\u001b[0misfinite\u001b[0m\u001b[1;33m(\u001b[0m\u001b[0mexog_max\u001b[0m\u001b[1;33m)\u001b[0m\u001b[1;33m.\u001b[0m\u001b[0mall\u001b[0m\u001b[1;33m(\u001b[0m\u001b[1;33m)\u001b[0m\u001b[1;33m:\u001b[0m\u001b[1;33m\u001b[0m\u001b[1;33m\u001b[0m\u001b[0m\n\u001b[0;32m    133\u001b[0m                 \u001b[1;32mraise\u001b[0m \u001b[0mMissingDataError\u001b[0m\u001b[1;33m(\u001b[0m\u001b[1;34m'exog contains inf or nans'\u001b[0m\u001b[1;33m)\u001b[0m\u001b[1;33m\u001b[0m\u001b[1;33m\u001b[0m\u001b[0m\n\u001b[1;32m--> 134\u001b[1;33m             \u001b[0mexog_min\u001b[0m \u001b[1;33m=\u001b[0m \u001b[0mnp\u001b[0m\u001b[1;33m.\u001b[0m\u001b[0mmin\u001b[0m\u001b[1;33m(\u001b[0m\u001b[0mself\u001b[0m\u001b[1;33m.\u001b[0m\u001b[0mexog\u001b[0m\u001b[1;33m,\u001b[0m \u001b[0maxis\u001b[0m\u001b[1;33m=\u001b[0m\u001b[1;36m0\u001b[0m\u001b[1;33m)\u001b[0m\u001b[1;33m\u001b[0m\u001b[1;33m\u001b[0m\u001b[0m\n\u001b[0m\u001b[0;32m    135\u001b[0m             \u001b[0mconst_idx\u001b[0m \u001b[1;33m=\u001b[0m \u001b[0mnp\u001b[0m\u001b[1;33m.\u001b[0m\u001b[0mwhere\u001b[0m\u001b[1;33m(\u001b[0m\u001b[0mexog_max\u001b[0m \u001b[1;33m==\u001b[0m \u001b[0mexog_min\u001b[0m\u001b[1;33m)\u001b[0m\u001b[1;33m[\u001b[0m\u001b[1;36m0\u001b[0m\u001b[1;33m]\u001b[0m\u001b[1;33m.\u001b[0m\u001b[0msqueeze\u001b[0m\u001b[1;33m(\u001b[0m\u001b[1;33m)\u001b[0m\u001b[1;33m\u001b[0m\u001b[1;33m\u001b[0m\u001b[0m\n\u001b[0;32m    136\u001b[0m             \u001b[0mself\u001b[0m\u001b[1;33m.\u001b[0m\u001b[0mk_constant\u001b[0m \u001b[1;33m=\u001b[0m \u001b[0mconst_idx\u001b[0m\u001b[1;33m.\u001b[0m\u001b[0msize\u001b[0m\u001b[1;33m\u001b[0m\u001b[1;33m\u001b[0m\u001b[0m\n",
      "\u001b[1;32m<__array_function__ internals>\u001b[0m in \u001b[0;36mamin\u001b[1;34m(*args, **kwargs)\u001b[0m\n",
      "\u001b[1;32mC:\\ProgramData\\Anaconda3\\lib\\site-packages\\numpy\\core\\fromnumeric.py\u001b[0m in \u001b[0;36mamin\u001b[1;34m(a, axis, out, keepdims, initial, where)\u001b[0m\n\u001b[0;32m   2828\u001b[0m     \u001b[1;36m6\u001b[0m\u001b[1;33m\u001b[0m\u001b[1;33m\u001b[0m\u001b[0m\n\u001b[0;32m   2829\u001b[0m     \"\"\"\n\u001b[1;32m-> 2830\u001b[1;33m     return _wrapreduction(a, np.minimum, 'min', axis, None, out,\n\u001b[0m\u001b[0;32m   2831\u001b[0m                           keepdims=keepdims, initial=initial, where=where)\n\u001b[0;32m   2832\u001b[0m \u001b[1;33m\u001b[0m\u001b[0m\n",
      "\u001b[1;32mC:\\ProgramData\\Anaconda3\\lib\\site-packages\\numpy\\core\\fromnumeric.py\u001b[0m in \u001b[0;36m_wrapreduction\u001b[1;34m(obj, ufunc, method, axis, dtype, out, **kwargs)\u001b[0m\n\u001b[0;32m     85\u001b[0m                 \u001b[1;32mreturn\u001b[0m \u001b[0mreduction\u001b[0m\u001b[1;33m(\u001b[0m\u001b[0maxis\u001b[0m\u001b[1;33m=\u001b[0m\u001b[0maxis\u001b[0m\u001b[1;33m,\u001b[0m \u001b[0mout\u001b[0m\u001b[1;33m=\u001b[0m\u001b[0mout\u001b[0m\u001b[1;33m,\u001b[0m \u001b[1;33m**\u001b[0m\u001b[0mpasskwargs\u001b[0m\u001b[1;33m)\u001b[0m\u001b[1;33m\u001b[0m\u001b[1;33m\u001b[0m\u001b[0m\n\u001b[0;32m     86\u001b[0m \u001b[1;33m\u001b[0m\u001b[0m\n\u001b[1;32m---> 87\u001b[1;33m     \u001b[1;32mreturn\u001b[0m \u001b[0mufunc\u001b[0m\u001b[1;33m.\u001b[0m\u001b[0mreduce\u001b[0m\u001b[1;33m(\u001b[0m\u001b[0mobj\u001b[0m\u001b[1;33m,\u001b[0m \u001b[0maxis\u001b[0m\u001b[1;33m,\u001b[0m \u001b[0mdtype\u001b[0m\u001b[1;33m,\u001b[0m \u001b[0mout\u001b[0m\u001b[1;33m,\u001b[0m \u001b[1;33m**\u001b[0m\u001b[0mpasskwargs\u001b[0m\u001b[1;33m)\u001b[0m\u001b[1;33m\u001b[0m\u001b[1;33m\u001b[0m\u001b[0m\n\u001b[0m\u001b[0;32m     88\u001b[0m \u001b[1;33m\u001b[0m\u001b[0m\n\u001b[0;32m     89\u001b[0m \u001b[1;33m\u001b[0m\u001b[0m\n",
      "\u001b[1;31mKeyboardInterrupt\u001b[0m: "
     ]
    }
   ],
   "source": [
    "scores, pvalues, pairs, = find_cointegrated_pairs(prices)\n",
    "best_pairs = [pair for pair in pairs if pair[2]<.001]"
   ]
  },
  {
   "cell_type": "code",
   "execution_count": null,
   "metadata": {},
   "outputs": [],
   "source": [
    "sns.heatmap(pvalues, xticklabels=samples, yticklabels=samples, cmap='RdYlGn_r' , mask = (pvalues >= 0.98))\n",
    "plt.show()"
   ]
  },
  {
   "cell_type": "code",
   "execution_count": null,
   "metadata": {},
   "outputs": [],
   "source": [
    "ticker1 = \"AROC\"# Set ticker1\n",
    "ticker2 = \"CPE\"# Set ticker2\n",
    "S1 = prices[ticker1]\n",
    "S2 = prices[ticker2]\n",
    "score, pvalue, _ = coint(S1, S2)\n",
    "print(pvalue)\n",
    "\n",
    "ratios = S1 / S2\n",
    "#ratios.plot(figsize=(15,7))\n",
    "#plt.axhline(ratios.mean())\n",
    "#plt.legend(['Price Ratio'])\n",
    "#plt.show()"
   ]
  },
  {
   "cell_type": "code",
   "execution_count": null,
   "metadata": {},
   "outputs": [],
   "source": [
    "pairs"
   ]
  },
  {
   "cell_type": "code",
   "execution_count": null,
   "metadata": {},
   "outputs": [],
   "source": [
    "for result in results:\n",
    "    if result[0] "
   ]
  },
  {
   "cell_type": "code",
   "execution_count": null,
   "metadata": {},
   "outputs": [],
   "source": [
    "trimmed_pairs = [(pair[0], pair[1]) for pair in pairs]\n",
    "#trimmed_pairs\n",
    "combo_pairs = []\n",
    "for result in results:\n",
    "    if ((result[0],result[1]) in trimmed_pairs) or ((result[1], result[0]) in trimmed_pairs):\n",
    "        combo_pairs.append(result)\n",
    "combo_pairs"
   ]
  },
  {
   "cell_type": "code",
   "execution_count": null,
   "metadata": {},
   "outputs": [],
   "source": [
    "split_number = round(2/3 * len(ratios))\n",
    "print(split_number)\n",
    "train = ratios[:split_number]\n",
    "test = ratios[split_number:]"
   ]
  },
  {
   "cell_type": "code",
   "execution_count": null,
   "metadata": {},
   "outputs": [],
   "source": [
    "total_profit = 0\n",
    "\n",
    "for pair in combo_pairs:\n",
    "    ticker1 = pair[0]\n",
    "    ticker2 = pair[1]\n",
    "    total_profit += trade(prices[ticker1].iloc[split_number:], prices[ticker2].iloc[split_number:], 5, 120)\n",
    "average_profit = total_profit/len(combo_pairs)\n",
    "total_profit"
   ]
  },
  {
   "cell_type": "code",
   "execution_count": null,
   "metadata": {},
   "outputs": [],
   "source": [
    "ticker1 = \"DKL\"# Set ticker1\n",
    "ticker2 = \"MRO\""
   ]
  },
  {
   "cell_type": "code",
   "execution_count": null,
   "metadata": {},
   "outputs": [],
   "source": [
    "# Compute the rolling z-score of the ratio using the definition above\n",
    "# Hint: Use pandas.Series.rolling on your training set. Set center = false\n",
    "\n",
    "ratios_mavg5 = ratios.rolling('5d',center = False).mean() \n",
    "# print(ratios_mavg5)\n",
    "\n",
    "ratios_mavg60 = ratios.rolling('60d',center = False).mean() \n",
    "# print(ratios_mavg60)\n",
    "\n",
    "std_60 = ratios.rolling('60d',center = False).std()\n",
    "# print(std_60)\n",
    "\n",
    "zscore_60_5 = (ratios_mavg5 - ratios_mavg60)/std_60\n",
    "print(zscore_60_5)"
   ]
  },
  {
   "cell_type": "code",
   "execution_count": null,
   "metadata": {},
   "outputs": [],
   "source": [
    "# This plots the moving averages you calculated. Notice how longer windows smoothen out the curves.\n",
    "\n",
    "plt.figure(figsize=(15,7))\n",
    "plt.plot(train.index, train.values)\n",
    "plt.plot(ratios_mavg5.index, ratios_mavg5.values)\n",
    "plt.plot(ratios_mavg60.index, ratios_mavg60.values)\n",
    "\n",
    "plt.legend(['Ratio','5d Ratio MA', '60d Ratio MA'])\n",
    "\n",
    "plt.ylabel('Ratio')\n",
    "plt.show()"
   ]
  },
  {
   "cell_type": "code",
   "execution_count": null,
   "metadata": {},
   "outputs": [],
   "source": [
    "# This plot the rolling z-score of the ratio\n",
    "\n",
    "plt.figure(figsize=(15,7))\n",
    "zscore_60_5.plot()\n",
    "plt.axhline(0, color='black')\n",
    "plt.axhline(1.0, color='red', linestyle='--')\n",
    "plt.axhline(-1.0, color='green', linestyle='--')\n",
    "plt.legend(['Rolling Ratio z-Score', 'Mean', '+1', '-1'])\n",
    "plt.show()"
   ]
  },
  {
   "cell_type": "code",
   "execution_count": null,
   "metadata": {},
   "outputs": [],
   "source": [
    "#Generate signals using the previously defined trading strategy\n",
    "\n",
    "plt.figure(figsize=(15,7))\n",
    "train[60:].plot()\n",
    "\n",
    "buy = train.copy()\n",
    "sell = train.copy()\n",
    "buy[zscore_60_5>-1] = 0 \n",
    "sell[zscore_60_5<1] = 0\n",
    "\n",
    "buy[60:].plot(color='g', linestyle='None', marker='^')\n",
    "sell[60:].plot(color='r', linestyle='None', marker='^')\n",
    "x1,x2,y1,y2 = plt.axis()\n",
    "plt.axis((x1,x2,train.min(),train.max()))\n",
    "plt.legend(['Ratio', 'Buy Signal', 'Sell Signal'])\n",
    "plt.show()"
   ]
  },
  {
   "cell_type": "code",
   "execution_count": null,
   "metadata": {},
   "outputs": [],
   "source": [
    "plt.figure(figsize=(18,9))\n",
    "S1 = prices[ticker1].iloc[:671]\n",
    "S2 = prices[ticker2].iloc[:671]\n",
    "\n",
    "S1[60:].plot(color='b')\n",
    "S2[60:].plot(color='c')\n",
    "buyR = 0*S1.copy()\n",
    "sellR = 0*S1.copy()\n",
    "\n",
    "# When buying the ratio, buy S1 and sell S2\n",
    "buyR[buy!=0] = S1[buy!=0]\n",
    "sellR[buy!=0] = S2[buy!=0]\n",
    "\n",
    "# When selling the ratio, sell S1 and buy S2 \n",
    "buyR[sell!=0] = S2[sell!=0]\n",
    "sellR[sell!=0] = S1[sell!=0]\n",
    "\n",
    "buyR[60:].plot(color='g', linestyle='None', marker='^')\n",
    "sellR[60:].plot(color='r', linestyle='None', marker='^')\n",
    "x1,x2,y1,y2 = plt.axis()\n",
    "plt.axis((x1,x2,min(S1.min(),S2.min()),max(S1.max(),S2.max())))\n",
    "\n",
    "plt.legend([ticker1,ticker2, 'Buy Signal', 'Sell Signal'])\n",
    "plt.show()"
   ]
  },
  {
   "cell_type": "code",
   "execution_count": null,
   "metadata": {},
   "outputs": [],
   "source": [
    "def trade(S1, S2, window1, window2):\n",
    "    # If window length is 0, algorithm doesn't make sense, so exit\n",
    "    if (window1 == 0) or (window2 == 0):\n",
    "        return 0\n",
    "    # Compute rolling mean and rolling standard deviation\n",
    "    ratios = S1/S2\n",
    "    ma1 = ratios.rolling(window=window1,\n",
    "                               center=False).mean()\n",
    "    ma2 = ratios.rolling(window=window2,\n",
    "                               center=False).mean()\n",
    "    std = ratios.rolling(window=window2,\n",
    "                        center=False).std()\n",
    "    zscore = (ma1 - ma2)/std\n",
    "    # Simulate trading\n",
    "    # Start with no money and no positions\n",
    "    money = 0\n",
    "    countS1 = 0\n",
    "    countS2 = 0\n",
    "    for i in range(len(ratios)):\n",
    "        # Sell short if the z-score is > 1\n",
    "        if zscore[i] > 1:\n",
    "            money += S1[i] - S2[i] * ratios[i]\n",
    "            countS1 -= 1\n",
    "            countS2 += ratios[i]\n",
    "        # Buy long if the z-score is < 1\n",
    "        elif zscore[i] < -1:\n",
    "            money -= S1[i] - S2[i] * ratios[i]\n",
    "            countS1 += 1\n",
    "            countS2 -= ratios[i]\n",
    "        # Clear positions if the z-score between -.5 and .5\n",
    "        elif abs(zscore[i]) < 0.5:\n",
    "            money += countS1 * S1[i] + S2[i] * countS2\n",
    "            countS1 = 0\n",
    "            countS2 = 0\n",
    "    return money"
   ]
  },
  {
   "cell_type": "code",
   "execution_count": null,
   "metadata": {},
   "outputs": [],
   "source": [
    "trade(prices[ticker1].iloc[:split_number], prices[ticker2].iloc[:split_number], 5, 60)"
   ]
  },
  {
   "cell_type": "code",
   "execution_count": null,
   "metadata": {},
   "outputs": [],
   "source": [
    "trade(prices[ticker1].iloc[split_number:], prices[ticker2].iloc[split_number:], 5, 60)"
   ]
  },
  {
   "cell_type": "code",
   "execution_count": null,
   "metadata": {},
   "outputs": [],
   "source": [
    "# Check with training data\n",
    "length_scores = [trade(prices[ticker1].iloc[:split_number], \n",
    "                prices[ticker2].iloc[:split_number], 5, l) \n",
    "                for l in range(255)]\n",
    "best_length = np.argmax(length_scores)\n",
    "print ('Best window length:', best_length)\n",
    "print('Money made:', length_scores[best_length])"
   ]
  },
  {
   "cell_type": "code",
   "execution_count": null,
   "metadata": {},
   "outputs": [],
   "source": [
    "# Check with testing data\n",
    "length_scores2 = [trade(prices[ticker1].iloc[split_number:], \n",
    "                  prices[ticker2].iloc[split_number:],5, l) \n",
    "                  for l in range(255)]\n",
    "\n",
    "best_length2 = np.argmax(length_scores2)\n",
    "print ('Best window length:', best_length2)\n",
    "print('Money made:', length_scores2[best_length2])"
   ]
  },
  {
   "cell_type": "code",
   "execution_count": null,
   "metadata": {},
   "outputs": [],
   "source": []
  },
  {
   "cell_type": "code",
   "execution_count": null,
   "metadata": {},
   "outputs": [],
   "source": []
  }
 ],
 "metadata": {
  "kernelspec": {
   "display_name": "Python 3",
   "language": "python",
   "name": "python3"
  },
  "language_info": {
   "codemirror_mode": {
    "name": "ipython",
    "version": 3
   },
   "file_extension": ".py",
   "mimetype": "text/x-python",
   "name": "python",
   "nbconvert_exporter": "python",
   "pygments_lexer": "ipython3",
   "version": "3.8.5"
  }
 },
 "nbformat": 4,
 "nbformat_minor": 2
}
